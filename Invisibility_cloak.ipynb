{
  "nbformat": 4,
  "nbformat_minor": 0,
  "metadata": {
    "colab": {
      "name": "Invisibility_cloak.ipynb",
      "provenance": [],
      "authorship_tag": "ABX9TyPCBnmgB368eiGgXo6eSv0Y",
      "include_colab_link": true
    },
    "kernelspec": {
      "name": "python3",
      "display_name": "Python 3"
    }
  },
  "cells": [
    {
      "cell_type": "markdown",
      "metadata": {
        "id": "view-in-github",
        "colab_type": "text"
      },
      "source": [
        "<a href=\"https://colab.research.google.com/github/imakshit/The-Invisibility-Cloak/blob/master/Invisibility_cloak.ipynb\" target=\"_parent\"><img src=\"https://colab.research.google.com/assets/colab-badge.svg\" alt=\"Open In Colab\"/></a>"
      ]
    },
    {
      "cell_type": "markdown",
      "metadata": {
        "id": "RhpgAyt6yT4l",
        "colab_type": "text"
      },
      "source": [
        "#HARRY POTTER INVISIBILITY CLOAK!\n",
        "  \n",
        "we are going to make a real invisibility cloak!\n",
        "Not for real though, but through the power of our code...."
      ]
    },
    {
      "cell_type": "markdown",
      "metadata": {
        "id": "faB7Va2uyvDo",
        "colab_type": "text"
      },
      "source": [
        "**LETS BEGIN**"
      ]
    },
    {
      "cell_type": "code",
      "metadata": {
        "id": "rl5ZQOW1720f",
        "colab_type": "code",
        "colab": {}
      },
      "source": [
        "#importing all libraries\n",
        "import cv2\n",
        "import numpy as np\n",
        "import time"
      ],
      "execution_count": 0,
      "outputs": []
    },
    {
      "cell_type": "markdown",
      "metadata": {
        "id": "Hb0gOCtDzESV",
        "colab_type": "text"
      },
      "source": [
        "**Extracting the Static Background**"
      ]
    },
    {
      "cell_type": "markdown",
      "metadata": {
        "id": "p_7-7zYSzH0e",
        "colab_type": "text"
      },
      "source": [
        "We will replace the current frame pixels corresponding to the cloth with the background pixels to generate the effect of an invisibility cloak. For this we need to store the frame of a static background."
      ]
    },
    {
      "cell_type": "code",
      "metadata": {
        "id": "1tvDYM3Cy6oe",
        "colab_type": "code",
        "colab": {}
      },
      "source": [
        "# Creating an VideoCapture object\n",
        "# This will be used for image acquisition later in the code.\n",
        "cap = cv2.VideoCapture(0)\n",
        "\n",
        "# We give some time for the camera to setup\n",
        "time.sleep(3)\n",
        "\n",
        "background=0\n",
        "for i in range(30):\n",
        "\tret,background = cap.read()\n",
        "\n",
        "# Laterally invert the image / flip the image.\n",
        "background = np.flip(background)"
      ],
      "execution_count": 0,
      "outputs": []
    },
    {
      "cell_type": "markdown",
      "metadata": {
        "id": "_aFRqyqUzylF",
        "colab_type": "text"
      },
      "source": [
        "**Extracting red colour in the image**\n",
        "\n",
        "\n",
        "So the idea is that we will use a red colour cloth as out invisibility cloak. We will first determine the region covered by the cloth (determine pixels corresponding to red colour). To detect red colour we use the HSV colour space.\n",
        "\n",
        "Using HSV(Hue-Saturation-Value) colour space we can distinguish between different colours much accurately than we can in RGB colour space."
      ]
    },
    {
      "cell_type": "code",
      "metadata": {
        "id": "pfdvUW4NzCp3",
        "colab_type": "code",
        "colab": {}
      },
      "source": [
        "while(cap.isOpened()):\n",
        "\tret, img = cap.read()\n",
        "\n",
        "\timg = np.flip(img,axis=1)\n",
        "\thsv = cv2.cvtColor(img, cv2.COLOR_BGR2HSV)\n",
        "\tvalue = (35, 35)\n",
        "\tblurred = cv2.GaussianBlur(hsv, value,0)\n",
        " \n",
        "  #Below code is used to detect pixels corresponding to red color cloth\n",
        "\tlower_red = np.array([0,120,70])\n",
        "\tupper_red = np.array([10,255,255])\n",
        "\tmask1 = cv2.inRange(hsv,lower_red,upper_red)\n",
        "\n",
        "\t\n",
        "\tlower_red = np.array([170,120,70])\n",
        "\tupper_red = np.array([180,255,255])\n",
        "\tmask2 = cv2.inRange(hsv,lower_red,upper_red)\n",
        "  #mask2 = cv2.inRange(hsv,lower_red,upper_red)\n",
        "  #The below command returns an array with pixel value = 255 for pixels having HSV values \n",
        "  #within upper and lower value range and 0 otherwise. This way we generate a mask.\n",
        "  \n",
        "  #finally we or both the masks to get our final mask \n",
        "\tmask = mask1+mask2\n",
        "\t\n",
        " \n",
        "\t\n",
        "\t"
      ],
      "execution_count": 0,
      "outputs": []
    },
    {
      "cell_type": "markdown",
      "metadata": {
        "id": "feGhDZ7o09UB",
        "colab_type": "text"
      },
      "source": [
        "**HERE'S THE TRICK**"
      ]
    },
    {
      "cell_type": "markdown",
      "metadata": {
        "id": "tkLl10M-1IVm",
        "colab_type": "text"
      },
      "source": [
        " We access all the pixels which have value of 255 in the final mask (The pixels corresponding to the detected red colour), and we replace the pixel values with the pixel values of respective coordinates in the background frame. That's the trick."
      ]
    },
    {
      "cell_type": "code",
      "metadata": {
        "id": "uImvG80j0AyW",
        "colab_type": "code",
        "colab": {}
      },
      "source": [
        "mask = cv2.morphologyEx(mask, cv2.MORPH_OPEN, np.ones((5,5),np.uint8))"
      ],
      "execution_count": 0,
      "outputs": []
    },
    {
      "cell_type": "code",
      "metadata": {
        "id": "5KnDEDV11Lu7",
        "colab_type": "code",
        "colab": {}
      },
      "source": [
        "img[np.where(mask==255)] = background[np.where(mask==255)]\n",
        "\tcv2.imshow('Display',img)\n",
        "\tk = cv2.waitKey(10)\n",
        "\tif k == 27:\n",
        "\t\tbreak"
      ],
      "execution_count": 0,
      "outputs": []
    },
    {
      "cell_type": "code",
      "metadata": {
        "id": "9_d_6O_B2TnP",
        "colab_type": "code",
        "colab": {}
      },
      "source": [
        ""
      ],
      "execution_count": 0,
      "outputs": []
    }
  ]
}